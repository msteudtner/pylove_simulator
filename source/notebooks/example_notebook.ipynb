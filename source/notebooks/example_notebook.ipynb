{
 "cells": [
  {
   "attachments": {},
   "cell_type": "markdown",
   "metadata": {},
   "source": [
    "## Pylove example simulation"
   ]
  },
  {
   "cell_type": "code",
   "execution_count": 1,
   "metadata": {},
   "outputs": [],
   "source": [
    "import sys\n",
    "from os import cpu_count\n",
    "sys.path.append(\"../\")\n",
    "from mappings import hubbard_mapping_helper as mapper\n",
    "from mappings import gse_9_mode\n",
    "import numpy as np\n",
    "from simulator.logical_vector_simulator import logical_state_simulation\n",
    "from simulator.noise import single_qubit_depolarizing, parallel_single_qubit_depolarizing, noiseless\n",
    "from simulator.utils import check_mapping, fidelity\n",
    "\n",
    "from time import time"
   ]
  },
  {
   "attachments": {},
   "cell_type": "markdown",
   "metadata": {},
   "source": [
    "The simulation is of a circuit 14-qubit encoding of a 9-mode fermionic system.\n",
    "\n",
    "This encoding is from a family called the GSE (Generalized Superfast Encoding)\n",
    "\n",
    "We can import the operators from the mapping file `mappings.gse_9_mode`"
   ]
  },
  {
   "cell_type": "code",
   "execution_count": 2,
   "metadata": {},
   "outputs": [],
   "source": [
    "stabs = gse_9_mode.stabs\n",
    "Aops = gse_9_mode.Aop\n",
    "Bops = gse_9_mode.Bop\n",
    "qubits = 14\n",
    "# Additional operators to fix the initial state - here start in the vacuum\n",
    "# We only need to include 8 Bops, they all multiply to the total parity which happens to be \n",
    "# in the stabilizer group\n",
    "\n",
    "fixed_ops = [Bops[j] for j in range(8)] \n",
    "# Raises a simulator error if there is a commutation issue between the logical ops and the stabilizers\n",
    "check_mapping(Aops,Bops,stabs) \n",
    "\n",
    "\n"
   ]
  },
  {
   "attachments": {},
   "cell_type": "markdown",
   "metadata": {},
   "source": [
    "Let's include some noise on the qubits, in this case \n",
    "* single qubit depolarizing noise acting on idle qubits: `single_qubit_depolarizing`\n",
    "* depolarizing noise acting independently in parallel on both qubits following each CNOT gate: `parallel_single_qubit_depolarizing`\n",
    "\n",
    "We'll average over `200` noise realizations"
   ]
  },
  {
   "cell_type": "code",
   "execution_count": 3,
   "metadata": {},
   "outputs": [],
   "source": [
    "cpus = 1\n",
    "shots = 200\n",
    "\n",
    "stat_noise_rate = 0.001\n",
    "gate_noise_rate = 0.01\n",
    "if stat_noise_rate==0.0:\n",
    "    stat_noise_model = noiseless()\n",
    "else:\n",
    "    stat_noise_model = single_qubit_depolarizing(stat_noise_rate)\n",
    "if gate_noise_rate==0.0:\n",
    "    gate_noise_model = noiseless()\n",
    "else:\n",
    "    gate_noise_model = parallel_single_qubit_depolarizing(gate_noise_rate)\n"
   ]
  },
  {
   "attachments": {},
   "cell_type": "markdown",
   "metadata": {},
   "source": [
    "## Fidelity decay experiment\n",
    "\n",
    "Over a range of circuit depths, track the decay of postselected fidelity given a fixed number of shots"
   ]
  },
  {
   "cell_type": "code",
   "execution_count": 4,
   "metadata": {},
   "outputs": [],
   "source": [
    "# Choose the circuits to be a sequence of Aops with random angles\n",
    "circuit_schedule = [\n",
    "        np.random.rand()*Aops[(0,1)],\n",
    "        np.random.rand()*Aops[(1,2)],\n",
    "        np.random.rand()*Aops[(3,4)],\n",
    "        np.random.rand()*Aops[(4,5)],\n",
    "        np.random.rand()*Aops[(6,7)],\n",
    "        np.random.rand()*Aops[(7,8)],\n",
    "        np.random.rand()*Aops[(0,3)],\n",
    "        np.random.rand()*Aops[(3,6)],\n",
    "        np.random.rand()*Aops[(1,4)],\n",
    "        np.random.rand()*Aops[(4,7)],\n",
    "        np.random.rand()*Aops[(2,5)],\n",
    "        np.random.rand()*Aops[(5,8)]\n",
    "]*10"
   ]
  },
  {
   "attachments": {},
   "cell_type": "markdown",
   "metadata": {},
   "source": [
    "Simulation execution - takes about 175 seconds"
   ]
  },
  {
   "cell_type": "code",
   "execution_count": 5,
   "metadata": {},
   "outputs": [
    {
     "name": "stdout",
     "output_type": "stream",
     "text": [
      "took 177.8596386909485 seconds\n"
     ]
    }
   ],
   "source": [
    "fidelities = []\n",
    "start = time()\n",
    "for circuit_depth in range(0,50,5):\n",
    "    (state, block_entries, ideal_state, depth, data)  = logical_state_simulation(\n",
    "                    stabilizers = stabs,\n",
    "                    n_phys_qubits = qubits,\n",
    "                    rounds = shots,\n",
    "                    stat_noise = stat_noise_model,\n",
    "                    gate_noise = gate_noise_model,\n",
    "                    phys_circuit = circuit_schedule[:circuit_depth],\n",
    "                    logical_operators = fixed_ops,\n",
    "                    d_matrix_blocks = 'code',\n",
    "                    block_numbers = [],\n",
    "                    num_processes = cpus\n",
    "                    )\n",
    "    fidelities.append(fidelity(state,ideal_state))\n",
    "end = time()\n",
    "print(f'took {end-start} seconds')"
   ]
  },
  {
   "attachments": {},
   "cell_type": "markdown",
   "metadata": {},
   "source": [
    "And let's plot the results"
   ]
  },
  {
   "cell_type": "code",
   "execution_count": 6,
   "metadata": {},
   "outputs": [
    {
     "data": {
      "image/png": "[encoded data removed]",
      "text/plain": [
       "<Figure size 640x480 with 1 Axes>"
      ]
     },
     "metadata": {},
     "output_type": "display_data"
    }
   ],
   "source": [
    "import matplotlib.pyplot as plt\n",
    "import matplotlib as mpl\n",
    "mpl.rc_file_defaults()\n",
    "plt.style.use('ggplot')\n",
    "plt.rcParams['mathtext.fontset'] = 'stix'\n",
    "plt.rcParams['font.family'] = 'STIXGeneral'\n",
    "\n",
    "plt.plot(range(0,50,5),fidelities)\n",
    "plt.xlabel('Number of rotations',color='black')\n",
    "plt.ylabel('Error mitigated fidelity',color='black')\n",
    "plt.tick_params(axis='x', colors='black')\n",
    "plt.tick_params(axis='y', colors='black')\n",
    "plt.show()"
   ]
  },
  {
   "cell_type": "code",
   "execution_count": null,
   "metadata": {},
   "outputs": [],
   "source": []
  }
 ],
 "metadata": {
  "kernelspec": {
   "display_name": "py36",
   "language": "python",
   "name": "python3"
  },
  "language_info": {
   "codemirror_mode": {
    "name": "ipython",
    "version": 3
   },
   "file_extension": ".py",
   "mimetype": "text/x-python",
   "name": "python",
   "nbconvert_exporter": "python",
   "pygments_lexer": "ipython3",
   "version": "3.6.12"
  },
  "orig_nbformat": 4,
  "vscode": {
   "interpreter": {
    "hash": "3db037b1af8c715c47b37b3fc1eb99e931abd138f484316486cd4b69d070e39a"
   }
  }
 },
 "nbformat": 4,
 "nbformat_minor": 2
}
