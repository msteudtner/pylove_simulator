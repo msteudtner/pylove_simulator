{
 "cells": [
  {
   "cell_type": "code",
   "execution_count": 1,
   "source": [
    "from openfermion import QubitOperator, chemist_ordered\n",
    "from numpy import imag\n",
    "from copy import deepcopy\n",
    "from utils import test_mapping, remap_modes\n"
   ],
   "outputs": [],
   "metadata": {}
  },
  {
   "cell_type": "code",
   "execution_count": 2,
   "source": [
    "longstab = ({\n",
    "    (0,1): QubitOperator('Z0 X24'),                             # 25\n",
    "    (1,6): QubitOperator('Y0 Z1 Z2 Z3 Z4 X5 X12 Z24'),          # 13\n",
    "    (6,7): QubitOperator('Y5 X6 Z12 X13'),                      # 14\n",
    "    (7,12): QubitOperator('Y6 Z7 Z8 Z9 Z10 X11 Z13 X14'),       # 15\n",
    "    (11,12): QubitOperator('Z10 Z11 Z14 X15'),                  # 16\n",
    "    (8,11): QubitOperator('Y7 Z8 Z9 X10 Z15 X16 Z23'),          # 17\n",
    "    (5,8): QubitOperator(' Y4 Z5 Z6 X7 Z16 X17'),               # 18\n",
    "    (2,5): QubitOperator('Y1 Z2 Z3 X4 Z17 X18'),                # 19\n",
    "    (2,3): QubitOperator('Z1 Z2 Z18 X19'),                      # 20\n",
    "    (3,4): QubitOperator('Y2 X3 Z19 X20'),                      # 21\n",
    "    (4,9): QubitOperator('Y3 Z4 Z5 Z6 Z7 X8 Z20 X21'),          # 22\n",
    "    (9,10): QubitOperator('Y8 X9 Z21 X22'),                     # 23\n",
    "    (10,11): QubitOperator('Z9 Z10 X15 Z16 Y22 Y23'),           # 24\n",
    "})\n",
    "\n",
    "corr = ({\n",
    "    (0,1): QubitOperator('Z24'),                                # 25\n",
    "    (1,6): QubitOperator('Z12'),                                # 13\n",
    "    (6,7): QubitOperator('Z13'),                                # 14\n",
    "    (7,12): QubitOperator('Z14'),                               # 15\n",
    "    (11,12): QubitOperator('Z15 Z23'),                          # 16\n",
    "    (8,11): QubitOperator('Z16'),                               # 17\n",
    "    (5,8): QubitOperator('Z17'),                                # 18\n",
    "    (2,5): QubitOperator('Z18'),                                # 19\n",
    "    (2,3): QubitOperator('Z19'),                                # 20\n",
    "    (3,4): QubitOperator('Z20'),                                # 21\n",
    "    (4,9): QubitOperator('Z21'),                                # 22\n",
    "    (9,10): QubitOperator('Z22 Z23'),                           # 23\n",
    "    (10,11):  QubitOperator('Z23'),                             # 24\n",
    "})\n",
    "\n",
    "def anticoms(a,b, thresh=10**-8):\n",
    "    \"\"\"check if a and b anticommute\"\"\"\n",
    "    return abs(imag(list((a*b).terms.values())[0])) >= thresh\n",
    "\n",
    "\n",
    "def make_A(index_one, index_two):\n",
    "    pstring = ((index_one-1, 'Y'),)\n",
    "    \n",
    "    for x in range(index_one, index_two-1):\n",
    "        pstring += ((x, 'Z'),)\n",
    "    \n",
    "    pstring += ((index_two-1, 'X'),)\n",
    "    return QubitOperator(pstring)\n",
    "\n",
    "\n",
    "def correct_op(op):\n",
    "    correction = QubitOperator(())\n",
    "    for key, val in list(longstab.items()):\n",
    "        if anticoms(op, val):\n",
    "            correction *= corr[key]\n",
    "    return op * correction\n",
    "\n",
    "\n",
    "A_op = ({\n",
    "    (1,6): correct_op(make_A(1,6)) * longstab[(1,6)],\n",
    "    (6,7): correct_op(make_A(6,7)) * longstab[(6,7)],\n",
    "    (7,12): correct_op(make_A(7,12)) * longstab[(7,12)],\n",
    "    (8,11): correct_op(make_A(8,11)) * longstab[(8,11)],\n",
    "    (5,8): correct_op(make_A(5,8)) * longstab[(5,8)],\n",
    "    (2,5): correct_op(make_A(2,5)),\n",
    "    (2,3): correct_op(make_A(2,3)) * longstab[(2,3)],\n",
    "    (3,4): correct_op(make_A(3,4)) * longstab[(3,4)],\n",
    "    (4,9): correct_op(make_A(4,9)) * longstab[(4,9)],\n",
    "    (9,10): correct_op(make_A(9,10)) * longstab[(9,10)],\n",
    "    (10,11): correct_op(make_A(10,11)) * longstab[(10,11)],\n",
    "    (1,2): correct_op(make_A(1,2)),\n",
    "    (2,3): correct_op(make_A(2,3)),\n",
    "    (4,5): correct_op(make_A(4,5)),\n",
    "    (5,6): correct_op(make_A(5,6)),\n",
    "    (7,8): correct_op(make_A(7,8)),\n",
    "    (8,9): correct_op(make_A(8,9)),\n",
    "    (10,11): correct_op(make_A(10,11)),\n",
    "    (11,12): correct_op(make_A(11,12)),\n",
    "})\n",
    "\n",
    "B_op = ({\n",
    "    1: correct_op(QubitOperator('Z0')),\n",
    "    2: correct_op(QubitOperator('Z1')),\n",
    "    3: correct_op(QubitOperator('Z2')),\n",
    "    4: correct_op(QubitOperator('Z3')),\n",
    "    5: correct_op(QubitOperator('Z4')),\n",
    "    6: correct_op(QubitOperator('Z5')),\n",
    "    7: correct_op(QubitOperator('Z6')),\n",
    "    8: correct_op(QubitOperator('Z7')),\n",
    "    9: correct_op(QubitOperator('Z8')),\n",
    "    10: correct_op(QubitOperator('Z9')),\n",
    "    11: correct_op(QubitOperator('Z10')),\n",
    "    12: correct_op(QubitOperator('Z11')),\n",
    "    \n",
    "})\n",
    "\n",
    "stabs = [\n",
    "    longstab[(1,6)],                        # 0\n",
    "    longstab[(2,5)],                        # 1\n",
    "    longstab[(3,4)],                        # 2\n",
    "    longstab[(2,3)],                        # 3\n",
    "    longstab[(4,9)],                        # 4\n",
    "    longstab[(5,8)],                        # 5\n",
    "    longstab[(6,7)],                        # 6\n",
    "    longstab[(7,12)],                       # 7\n",
    "    longstab[(8,11)],                       # 8\n",
    "    longstab[(9,10)],                       # 9\n",
    "    longstab[(10,11)],                      # 10\n",
    "    longstab[(11,12)],                      # 11\n",
    "    longstab[(0,1)],                        # 12\n",
    "\n",
    "]"
   ],
   "outputs": [],
   "metadata": {}
  },
  {
   "cell_type": "code",
   "execution_count": 3,
   "source": [
    "A_op"
   ],
   "outputs": [
    {
     "output_type": "execute_result",
     "data": {
      "text/plain": [
       "{(1, 6): 1.0 [X12 Z13],\n",
       " (6, 7): 1.0 [X13 Z14],\n",
       " (7, 12): 1.0 [X14 Z15 Z23],\n",
       " (8, 11): 1.0 [X16 Z17 Z23],\n",
       " (5, 8): 1.0 [X17 Z18],\n",
       " (2, 5): 1.0 [Y1 Z2 Z3 X4 Z17 Z19],\n",
       " (2, 3): 1.0 [Y1 X2 Z18 Z20],\n",
       " (3, 4): 1.0 [X20 Z21],\n",
       " (4, 9): 1.0 [X21 Z22 Z23],\n",
       " (9, 10): 1.0 [X22 Z23],\n",
       " (10, 11): 1.0 [Y9 X10 Z15 Z16 Z22],\n",
       " (1, 2): 1.0 [Y0 X1 Z12 Z18 Z19 Z24],\n",
       " (4, 5): 1.0 [Y3 X4 Z17 Z18 Z20 Z21],\n",
       " (5, 6): 1.0 [Y4 X5 Z12 Z13 Z17 Z18],\n",
       " (7, 8): 1.0 [Y6 X7 Z13 Z14 Z16 Z17],\n",
       " (8, 9): 1.0 [Y7 X8 Z16 Z17 Z21 Z22 Z23],\n",
       " (11, 12): 1.0 [Y10 X11 Z14 Z16 Z23]}"
      ]
     },
     "metadata": {},
     "execution_count": 3
    }
   ],
   "metadata": {}
  },
  {
   "cell_type": "code",
   "execution_count": 4,
   "source": [
    "B_op"
   ],
   "outputs": [
    {
     "output_type": "execute_result",
     "data": {
      "text/plain": [
       "{1: 1.0 [Z0 Z12],\n",
       " 2: 1.0 [Z1 Z18],\n",
       " 3: 1.0 [Z2 Z20],\n",
       " 4: 1.0 [Z3 Z20 Z21],\n",
       " 5: 1.0 [Z4 Z17 Z18],\n",
       " 6: 1.0 [Z5 Z12 Z13],\n",
       " 7: 1.0 [Z6 Z13 Z14],\n",
       " 8: 1.0 [Z7 Z16 Z17],\n",
       " 9: 1.0 [Z8 Z21 Z22 Z23],\n",
       " 10: 1.0 [Z9 Z22 Z23],\n",
       " 11: 1.0 [Z10 Z16],\n",
       " 12: 1.0 [Z11 Z14]}"
      ]
     },
     "metadata": {},
     "execution_count": 4
    }
   ],
   "metadata": {}
  },
  {
   "cell_type": "code",
   "execution_count": 5,
   "source": [
    "table = {\n",
    "    1: 0,\n",
    "    2: 2,\n",
    "    3: 4,\n",
    "    4: 5,\n",
    "    5: 3,\n",
    "    6: 1,\n",
    "    7: 6,\n",
    "    8: 8,\n",
    "    9: 10,\n",
    "    10: 11,\n",
    "    11: 9,\n",
    "    12: 7\n",
    "}"
   ],
   "outputs": [],
   "metadata": {}
  },
  {
   "cell_type": "code",
   "execution_count": 6,
   "source": [
    "test_mapping(\n",
    "        A_op,\n",
    "        B_op,\n",
    "        stabs)"
   ],
   "outputs": [
    {
     "output_type": "stream",
     "name": "stdout",
     "text": [
      "No irregularities found.\n"
     ]
    }
   ],
   "metadata": {}
  },
  {
   "cell_type": "code",
   "execution_count": 7,
   "source": [
    "new_A, new_B = remap_modes(table, (A_op, B_op))"
   ],
   "outputs": [],
   "metadata": {}
  },
  {
   "cell_type": "code",
   "execution_count": 8,
   "source": [
    "new_A"
   ],
   "outputs": [
    {
     "output_type": "execute_result",
     "data": {
      "text/plain": [
       "{(0, 1): 1.0 [X12 Z13],\n",
       " (1, 6): 1.0 [X13 Z14],\n",
       " (6, 7): 1.0 [X14 Z15 Z23],\n",
       " (8, 9): 1.0 [X16 Z17 Z23],\n",
       " (3, 8): 1.0 [X17 Z18],\n",
       " (2, 3): 1.0 [Y1 Z2 Z3 X4 Z17 Z19],\n",
       " (2, 4): 1.0 [Y1 X2 Z18 Z20],\n",
       " (4, 5): 1.0 [X20 Z21],\n",
       " (5, 10): 1.0 [X21 Z22 Z23],\n",
       " (10, 11): 1.0 [X22 Z23],\n",
       " (9, 11): -1.0 [Y9 X10 Z15 Z16 Z22],\n",
       " (0, 2): 1.0 [Y0 X1 Z12 Z18 Z19 Z24],\n",
       " (3, 5): -1.0 [Y3 X4 Z17 Z18 Z20 Z21],\n",
       " (1, 3): -1.0 [Y4 X5 Z12 Z13 Z17 Z18],\n",
       " (6, 8): 1.0 [Y6 X7 Z13 Z14 Z16 Z17],\n",
       " (8, 10): 1.0 [Y7 X8 Z16 Z17 Z21 Z22 Z23],\n",
       " (7, 9): -1.0 [Y10 X11 Z14 Z16 Z23]}"
      ]
     },
     "metadata": {},
     "execution_count": 8
    }
   ],
   "metadata": {}
  },
  {
   "cell_type": "code",
   "execution_count": 9,
   "source": [
    "new_B"
   ],
   "outputs": [
    {
     "output_type": "execute_result",
     "data": {
      "text/plain": [
       "{0: 1.0 [Z0 Z12],\n",
       " 2: 1.0 [Z1 Z18],\n",
       " 4: 1.0 [Z2 Z20],\n",
       " 5: 1.0 [Z3 Z20 Z21],\n",
       " 3: 1.0 [Z4 Z17 Z18],\n",
       " 1: 1.0 [Z5 Z12 Z13],\n",
       " 6: 1.0 [Z6 Z13 Z14],\n",
       " 8: 1.0 [Z7 Z16 Z17],\n",
       " 10: 1.0 [Z8 Z21 Z22 Z23],\n",
       " 11: 1.0 [Z9 Z22 Z23],\n",
       " 9: 1.0 [Z10 Z16],\n",
       " 7: 1.0 [Z11 Z14]}"
      ]
     },
     "metadata": {},
     "execution_count": 9
    }
   ],
   "metadata": {}
  },
  {
   "cell_type": "code",
   "execution_count": 10,
   "source": [
    "stabs= [\n",
    "\n",
    "(1-0j) * QubitOperator('Z0 X3 Z4 X5 Z8'),\n",
    "(-1+0j) * QubitOperator('Y0 X1 Z2 Y3 Z4 X5 Z9 X10 X11'),\n",
    "(-1+0j) * QubitOperator('Y0 Y1 Z2 Z3 Y4 Y5 Z13'),\n",
    "(-1+0j) * QubitOperator('X0 Z1 Y2 Z3 X4 Y5 X15 X16 Z17'),\n",
    "(1+0j) * QubitOperator('X0 Z1 X2 Z5 Z18'),\n",
    "(1-0j) * QubitOperator('X0 X1 Z2 X6 Z7 Y8 Z9 X10 Y11'),\n",
    "(-1+0j) * QubitOperator('X0 Y1 Z2 Y6 Z7 Y8 Z12 Y13 X14'),\n",
    "(-1+0j) * QubitOperator('Y0 Z1 Y2 Z6 Y7 X8 X15 Y16 Z17'),\n",
    "(1+0j)  * QubitOperator('Y0 Z1 X2 Z6 X7 X8 Y18 X19 Z20'),\n",
    "(1-0j) * QubitOperator('Z1 Y9 Y10 Z11 Z12 Y13 Y14'),\n",
    "(-1+0j) * QubitOperator('Z0 Y1 X2 X9 Y10 Z11 Y15 Z16 Y17'),\n",
    "(1+0j) * QubitOperator('Z0 Y1 Y2 Z10 Y18 Y19 Z20'),\n",
    "(1-0j) * QubitOperator('Z0 X1 X2 Y12 X13 Z14 Y15 Z16 X17'),\n",
    "(1-0j) * QubitOperator('Z0 X1 Y2 X12 X13 Z14 X18 Z19 Y20'),\n",
    "(-1+0j) * QubitOperator('Z2 Z15 X18 Z19 X20'),\n",
    "(1-0j) * QubitOperator('Z21 X24 Z25 X26 Z29'),\n",
    "(-1+0j) * QubitOperator('Y21 X22 Z23 Y24 Z25 X26 Z30 X31 X32'),\n",
    "(-1+0j) * QubitOperator('Y21 Y22 Z23 Z24 Y25 Y26 Z34'),\n",
    "(-1+0j) * QubitOperator('X21 Z22 Y23 Z24 X25 Y26 X36 X37 Z38'),\n",
    "(1+0j) * QubitOperator('X21 Z22 X23 Z26 Z39'),\n",
    "(1-0j) * QubitOperator('X21 X22 Z23 X27 Z28 Y29 Z30 X31 Y32'),\n",
    "(-1+0j) * QubitOperator('X21 Y22 Z23 Y27 Z28 Y29 Z33 Y34 X35'),\n",
    "(-1+0j) * QubitOperator('Y21 Z22 Y23 Z27 Y28 X29 X36 Y37 Z38'),\n",
    "(1+0j) * QubitOperator('Y21 Z22 X23 Z27 X28 X29 Y39 X40 Z41'),\n",
    "(1-0j) * QubitOperator('Z22 Y30 Y31 Z32 Z33 Y34 Y35'),\n",
    "(-1+0j) * QubitOperator('Z21 Y22 X23 X30 Y31 Z32 Y36 Z37 Y38'),\n",
    "(1+0j) * QubitOperator('Z21 Y22 Y23 Z31 Y39 Y40 Z41'),\n",
    "(1-0j) * QubitOperator('Z21 X22 X23 Y33 X34 Z35 Y36 Z37 X38'),\n",
    "(1-0j) * QubitOperator('Z21 X22 Y23 X33 X34 Z35 X39 Z40 Y41'),\n",
    "(-1+0j) * QubitOperator('Z23 Z36 X39 Z40 X41')]"
   ],
   "outputs": [],
   "metadata": {}
  },
  {
   "cell_type": "code",
   "execution_count": 11,
   "source": [
    "bops = {\n",
    "    0: (1+0j) * QubitOperator('Z0 Z1 Z2'),\n",
    "    1: (1+0j) * QubitOperator('Z3 Z4 Z5'),\n",
    "    2: (1+0j) * QubitOperator('Z6 Z7 Z8'),\n",
    "    3: (1+0j) * QubitOperator('Z9 Z10 Z11'),\n",
    "    4: (1+0j) * QubitOperator('Z12 Z13 Z14'),\n",
    "    5: (1+0j) * QubitOperator('Z15 Z16 Z17'),\n",
    "    6: (1+0j) * QubitOperator('Z18 Z19 Z20'),\n",
    "    7: (1+0j) * QubitOperator('Z21 Z22 Z23'),\n",
    "    8: (1+0j) * QubitOperator('Z24 Z25 Z26'),\n",
    "    9: (1+0j) * QubitOperator('Z27 Z28 Z29'),\n",
    "    10: (1+0j) * QubitOperator('Z30 Z31 Z32'),\n",
    "    11: (1+0j) * QubitOperator('Z33 Z34 Z35'),\n",
    "    12: (1+0j) * QubitOperator('Z36 Z37 Z38'),\n",
    "    13: (1+0j) * QubitOperator('Z39 Z40 Z41'),\n",
    "}"
   ],
   "outputs": [],
   "metadata": {}
  },
  {
   "cell_type": "code",
   "execution_count": 12,
   "source": [
    "aops = {\n",
    "    (0, 1): -1.0 * QubitOperator('X0 Z2 Z4 Y5'),\n",
    "    (0, 2): 1.0 * QubitOperator('Y0 Z2 Z7 X8'),\n",
    "    (0, 3): 1.0 * QubitOperator('Z0 X1 Z9 Y10'),\n",
    "    (0, 4): 1.0 * QubitOperator('Z0 Y1 Z12 X13'),\n",
    "    (0, 5): 1.0 * QubitOperator('Z1 X2 Y15 Z17'),\n",
    "    (0, 6): 1.0 * QubitOperator('Z1 Y2 X18 Z20'),\n",
    "    (1, 2): 1.0 * QubitOperator('X3 Z5 Z7 Y8'),\n",
    "    (1, 3): 1.0 * QubitOperator('Y3 Z5 Z10 X11'),\n",
    "    (1, 4): 1.0 * QubitOperator('Z3 X4 Z12 Y13'),\n",
    "    (1, 5): 1.0 * QubitOperator('Z3 Y4 Z15 X16'),\n",
    "    (1, 6): 1.0 * QubitOperator('Z4 X5 Y18 Z20'),\n",
    "    (2, 3): 1.0 * QubitOperator('X6 Z8 Z10 Y11'),\n",
    "    (2, 4): 1.0 * QubitOperator('Y6 Z8 Z13 X14'),\n",
    "    (2, 5): 1.0 * QubitOperator('Z6 X7 Z15 Y16'),\n",
    "    (2, 6): 1.0 * QubitOperator('Z6 Y7 Z18 X19'),\n",
    "    (3, 4): 1.0 * QubitOperator('X9 Z11 Z13 Y14'),\n",
    "    (3, 5): 1.0 * QubitOperator('Y9 Z11 Z16 X17'),\n",
    "    (3, 6): 1.0 * QubitOperator('Z9 X10 Z18 Y19'),\n",
    "    (4, 5): 1.0 * QubitOperator('X12 Z14 Z16 Y17'),\n",
    "    (4, 6): 1.0 * QubitOperator('Y12 Z14 Z19 X20'),\n",
    "    (5, 6): 1.0 * QubitOperator('X15 Z17 Z19 Y20'),\n",
    "    (7, 8): -1.0 * QubitOperator('X21 Z23 Z25 Y26'),\n",
    "    (7, 9): 1.0 * QubitOperator('Y21 Z23 Z28 X29'),\n",
    "    (7, 10): 1.0 * QubitOperator('Z21 X22 Z30 Y31'),\n",
    "    (7, 11): 1.0 * QubitOperator('Z21 Y22 Z33 X34'),\n",
    "    (7, 12): 1.0 * QubitOperator('Z22 X23 Y36 Z38'),\n",
    "    (7, 13): 1.0 * QubitOperator('Z22 Y23 X39 Z41'),\n",
    "    (8, 9): 1.0 * QubitOperator('X24 Z26 Z28 Y29'),\n",
    "    (8, 10): 1.0 * QubitOperator('Y24 Z26 Z31 X32'),\n",
    "    (8, 11): 1.0 * QubitOperator('Z24 X25 Z33 Y34'),\n",
    "    (8, 12): 1.0 * QubitOperator('Z24 Y25 Z36 X37'),\n",
    "    (8, 13): 1.0 * QubitOperator('Z25 X26 Y39 Z41'),\n",
    "    (9, 10): 1.0 * QubitOperator('X27 Z29 Z31 Y32'),\n",
    "    (9, 11): 1.0 * QubitOperator('Y27 Z29 Z34 X35'),\n",
    "    (9, 12): 1.0 * QubitOperator('Z27 X28 Z36 Y37'),\n",
    "    (9, 13): 1.0 * QubitOperator('Z27 Y28 Z39 X40'),\n",
    "    (10, 11): 1.0 * QubitOperator('X30 Z32 Z34 Y35'),\n",
    "    (10, 12): 1.0 * QubitOperator('Y30 Z32 Z37 X38'),\n",
    "    (10, 13): 1.0 * QubitOperator('Z30 X31 Z39 Y40'),\n",
    "    (11, 12): 1.0 * QubitOperator('X33 Z35 Z37 Y38'),\n",
    "    (11, 13): 1.0 * QubitOperator('Y33 Z35 Z40 X41'),\n",
    "    (12, 13): 1.0 * QubitOperator('X36 Z38 Z40 Y41'),\n",
    "}"
   ],
   "outputs": [],
   "metadata": {}
  },
  {
   "cell_type": "code",
   "execution_count": 13,
   "source": [
    "test_mapping(aops, bops, stabs)"
   ],
   "outputs": [
    {
     "output_type": "stream",
     "name": "stdout",
     "text": [
      "No irregularities found.\n"
     ]
    }
   ],
   "metadata": {}
  },
  {
   "cell_type": "code",
   "execution_count": 14,
   "source": [
    "from logical_vector_simulator import logical_state_simulation\n",
    "from logical_vector_construction import reduce_to_logical_plus\n",
    "from noise import noiseless"
   ],
   "outputs": [],
   "metadata": {}
  },
  {
   "cell_type": "code",
   "execution_count": 15,
   "source": [
    "ll = logical_state_simulation(\n",
    "    stabilizers = stabs,\n",
    "    logical_operators = [bops[x] for x in range(6)] + [bops[7 + x] for x in range(6)],\n",
    "    n_phys_qubits = 42,\n",
    "    )"
   ],
   "outputs": [],
   "metadata": {}
  },
  {
   "cell_type": "code",
   "execution_count": 16,
   "source": [
    "test_mapping(\n",
    "    aops,\n",
    "    bops,\n",
    "    ll[4][0],\n",
    "    )\n",
    "for j in range(len(ll[4][0])):\n",
    "    print(f'original {j}: {stabs[j]}')\n",
    "    print(f'updated {j}: {ll[4][0][j]}')"
   ],
   "outputs": [
    {
     "output_type": "stream",
     "name": "stdout",
     "text": [
      "No irregularities found.\noriginal 0: (1+0j) [Z0 X3 Z4 X5 Z8]\nupdated 0: (1+0j) [Z0 X3 Z4 X5 Z8]\noriginal 1: (-1+0j) [Y0 X1 Z2 Y3 Z4 X5 Z9 X10 X11]\nupdated 1: (-1+0j) [X0 X1 Z2 Z3 Z8 Z9 X10 X11]\noriginal 2: (-1+0j) [Y0 Y1 Z2 Z3 Y4 Y5 Z13]\nupdated 2: (-1+0j) [Z1 X3 X4 Z5 Z9 X10 X11 Z13]\noriginal 3: (-1+0j) [X0 Z1 Y2 Z3 X4 Y5 X15 X16 Z17]\nupdated 3: (-1+0j) [X0 Z1 Y2 Z3 X4 Y5 X15 X16 Z17]\noriginal 4: (1+0j) [X0 Z1 X2 Z5 Z18]\nupdated 4: (-1+0j) [Z2 Z3 X4 X5 X15 X16 Z17 Z18]\noriginal 5: (1+0j) [X0 X1 Z2 X6 Z7 Y8 Z9 X10 Y11]\nupdated 5: (-1+0j) [Z3 X6 Z7 X8 Z11]\noriginal 6: (-1+0j) [X0 Y1 Z2 Y6 Z7 Y8 Z12 Y13 X14]\nupdated 6: (1-0j) [Z1 Z6 Z9 X10 Y11 Z12 Y13 X14]\noriginal 7: (-1+0j) [Y0 Z1 Y2 Z6 Y7 X8 X15 Y16 Z17]\nupdated 7: (1-0j) [Z3 Z4 Y7 Y8 Z11 Z12 X13 X14 Z16]\noriginal 8: (1+0j) [Y0 Z1 X2 Z6 X7 X8 Y18 X19 Z20]\nupdated 8: (1-0j) [Z2 Z7 X15 Y16 Z17 Y18 X19 Z20]\noriginal 9: (1+0j) [Z1 Y9 Y10 Z11 Z12 Y13 Y14]\nupdated 9: (-1+0j) [Z6 X9 Z10 X11 Z14]\noriginal 10: (-1+0j) [Z0 Y1 X2 X9 Y10 Z11 Y15 Z16 Y17]\nupdated 10: (1-0j) [Z1 Z4 Z6 X10 Y11 Z13 Z14 Z15 Y16 X17]\noriginal 11: (1+0j) [Z0 Y1 Y2 Z10 Y18 Y19 Z20]\nupdated 11: (-1+0j) [Z7 X9 X10 Z11 Z15 X16 X17 Z19]\noriginal 12: (1+0j) [Z0 X1 X2 Y12 X13 Z14 Y15 Z16 X17]\nupdated 12: (1-0j) [Z4 Z7 X9 X10 Z11 Y12 Y13 Z14 Z16 Z17 Z19]\noriginal 13: (1+0j) [Z0 X1 Y2 X12 X13 Z14 X18 Z19 Y20]\nupdated 13: (-1+0j) [X9 X10 Z11 Z12 Z17 Z18 X19 X20]\noriginal 14: (-1+0j) [Z2 Z15 X18 Z19 X20]\nupdated 14: (-1+0j) [Z2 Z15 X18 Z19 X20]\noriginal 15: (1+0j) [Z21 X24 Z25 X26 Z29]\nupdated 15: (1+0j) [Z21 X24 Z25 X26 Z29]\noriginal 16: (-1+0j) [Y21 X22 Z23 Y24 Z25 X26 Z30 X31 X32]\nupdated 16: (-1+0j) [X21 X22 Z23 Z24 Z29 Z30 X31 X32]\noriginal 17: (-1+0j) [Y21 Y22 Z23 Z24 Y25 Y26 Z34]\nupdated 17: (-1+0j) [Z22 X24 X25 Z26 Z30 X31 X32 Z34]\noriginal 18: (-1+0j) [X21 Z22 Y23 Z24 X25 Y26 X36 X37 Z38]\nupdated 18: (-1+0j) [X21 Z22 Y23 Z24 X25 Y26 X36 X37 Z38]\noriginal 19: (1+0j) [X21 Z22 X23 Z26 Z39]\nupdated 19: (-1+0j) [Z23 Z24 X25 X26 X36 X37 Z38 Z39]\noriginal 20: (1+0j) [X21 X22 Z23 X27 Z28 Y29 Z30 X31 Y32]\nupdated 20: (-1+0j) [Z24 X27 Z28 X29 Z32]\noriginal 21: (-1+0j) [X21 Y22 Z23 Y27 Z28 Y29 Z33 Y34 X35]\nupdated 21: (1-0j) [Z22 Z27 Z30 X31 Y32 Z33 Y34 X35]\noriginal 22: (-1+0j) [Y21 Z22 Y23 Z27 Y28 X29 X36 Y37 Z38]\nupdated 22: (1-0j) [Z24 Z25 Y28 Y29 Z32 Z33 X34 X35 Z37]\noriginal 23: (1+0j) [Y21 Z22 X23 Z27 X28 X29 Y39 X40 Z41]\nupdated 23: (1-0j) [Z23 Z28 X36 Y37 Z38 Y39 X40 Z41]\noriginal 24: (1+0j) [Z22 Y30 Y31 Z32 Z33 Y34 Y35]\nupdated 24: (-1+0j) [Z27 X30 Z31 X32 Z35]\noriginal 25: (-1+0j) [Z21 Y22 X23 X30 Y31 Z32 Y36 Z37 Y38]\nupdated 25: (1-0j) [Z22 Z25 Z27 X31 Y32 Z34 Z35 Z36 Y37 X38]\noriginal 26: (1+0j) [Z21 Y22 Y23 Z31 Y39 Y40 Z41]\nupdated 26: (-1+0j) [Z28 X30 X31 Z32 Z36 X37 X38 Z40]\noriginal 27: (1+0j) [Z21 X22 X23 Y33 X34 Z35 Y36 Z37 X38]\nupdated 27: (1-0j) [Z25 Z28 X30 X31 Z32 Y33 Y34 Z35 Z37 Z38 Z40]\noriginal 28: (1+0j) [Z21 X22 Y23 X33 X34 Z35 X39 Z40 Y41]\nupdated 28: (-1+0j) [X30 X31 Z32 Z33 Z38 Z39 X40 X41]\noriginal 29: (-1+0j) [Z23 Z36 X39 Z40 X41]\nupdated 29: (-1+0j) [Z23 Z36 X39 Z40 X41]\n"
     ]
    }
   ],
   "metadata": {}
  },
  {
   "cell_type": "code",
   "execution_count": 17,
   "source": [
    "li = {}\n",
    "for x in aops.keys():\n",
    "    li.update({x: reduce_to_logical_plus(aops[x],*ll[4])[0][0]})\n",
    "aops_new = dict(li)\n",
    "\n",
    "li = {}\n",
    "for x in bops.keys():\n",
    "    li.update({x: reduce_to_logical_plus(bops[x],*ll[4])[0][0]})\n",
    "bops_new = dict(li)\n",
    "\n",
    "reduce_to_logical_plus(aops[0,1],*ll[4])[0][0]"
   ],
   "outputs": [
    {
     "output_type": "execute_result",
     "data": {
      "text/plain": [
       "-1.0 [Y0]"
      ]
     },
     "metadata": {},
     "execution_count": 17
    }
   ],
   "metadata": {}
  },
  {
   "cell_type": "code",
   "execution_count": 18,
   "source": [
    "test_mapping(aops_new, bops_new, [])"
   ],
   "outputs": [
    {
     "output_type": "stream",
     "name": "stdout",
     "text": [
      "No irregularities found.\n"
     ]
    }
   ],
   "metadata": {}
  },
  {
   "cell_type": "code",
   "execution_count": 19,
   "source": [
    "print([ll[4][0][x] - stabs[x] for x in range(len(stabs))])"
   ],
   "outputs": [
    {
     "output_type": "stream",
     "name": "stdout",
     "text": [
      "[0, (-1+0j) [X0 X1 Z2 Z3 Z8 Z9 X10 X11] +\n(1+0j) [Y0 X1 Z2 Y3 Z4 X5 Z9 X10 X11], (1+0j) [Y0 Y1 Z2 Z3 Y4 Y5 Z13] +\n(-1+0j) [Z1 X3 X4 Z5 Z9 X10 X11 Z13], 0, (-1+0j) [X0 Z1 X2 Z5 Z18] +\n(-1+0j) [Z2 Z3 X4 X5 X15 X16 Z17 Z18], (-1+0j) [X0 X1 Z2 X6 Z7 Y8 Z9 X10 Y11] +\n(-1+0j) [Z3 X6 Z7 X8 Z11], (1+0j) [X0 Y1 Z2 Y6 Z7 Y8 Z12 Y13 X14] +\n(1-0j) [Z1 Z6 Z9 X10 Y11 Z12 Y13 X14], (1+0j) [Y0 Z1 Y2 Z6 Y7 X8 X15 Y16 Z17] +\n(1-0j) [Z3 Z4 Y7 Y8 Z11 Z12 X13 X14 Z16], (-1+0j) [Y0 Z1 X2 Z6 X7 X8 Y18 X19 Z20] +\n(1-0j) [Z2 Z7 X15 Y16 Z17 Y18 X19 Z20], (-1+0j) [Z1 Y9 Y10 Z11 Z12 Y13 Y14] +\n(-1+0j) [Z6 X9 Z10 X11 Z14], (1+0j) [Z0 Y1 X2 X9 Y10 Z11 Y15 Z16 Y17] +\n(1-0j) [Z1 Z4 Z6 X10 Y11 Z13 Z14 Z15 Y16 X17], (-1+0j) [Z0 Y1 Y2 Z10 Y18 Y19 Z20] +\n(-1+0j) [Z7 X9 X10 Z11 Z15 X16 X17 Z19], (-1+0j) [Z0 X1 X2 Y12 X13 Z14 Y15 Z16 X17] +\n(1-0j) [Z4 Z7 X9 X10 Z11 Y12 Y13 Z14 Z16 Z17 Z19], (-1+0j) [Z0 X1 Y2 X12 X13 Z14 X18 Z19 Y20] +\n(-1+0j) [X9 X10 Z11 Z12 Z17 Z18 X19 X20], 0, 0, (-1+0j) [X21 X22 Z23 Z24 Z29 Z30 X31 X32] +\n(1+0j) [Y21 X22 Z23 Y24 Z25 X26 Z30 X31 X32], (1+0j) [Y21 Y22 Z23 Z24 Y25 Y26 Z34] +\n(-1+0j) [Z22 X24 X25 Z26 Z30 X31 X32 Z34], 0, (-1+0j) [X21 Z22 X23 Z26 Z39] +\n(-1+0j) [Z23 Z24 X25 X26 X36 X37 Z38 Z39], (-1+0j) [X21 X22 Z23 X27 Z28 Y29 Z30 X31 Y32] +\n(-1+0j) [Z24 X27 Z28 X29 Z32], (1+0j) [X21 Y22 Z23 Y27 Z28 Y29 Z33 Y34 X35] +\n(1-0j) [Z22 Z27 Z30 X31 Y32 Z33 Y34 X35], (1+0j) [Y21 Z22 Y23 Z27 Y28 X29 X36 Y37 Z38] +\n(1-0j) [Z24 Z25 Y28 Y29 Z32 Z33 X34 X35 Z37], (-1+0j) [Y21 Z22 X23 Z27 X28 X29 Y39 X40 Z41] +\n(1-0j) [Z23 Z28 X36 Y37 Z38 Y39 X40 Z41], (-1+0j) [Z22 Y30 Y31 Z32 Z33 Y34 Y35] +\n(-1+0j) [Z27 X30 Z31 X32 Z35], (1+0j) [Z21 Y22 X23 X30 Y31 Z32 Y36 Z37 Y38] +\n(1-0j) [Z22 Z25 Z27 X31 Y32 Z34 Z35 Z36 Y37 X38], (-1+0j) [Z21 Y22 Y23 Z31 Y39 Y40 Z41] +\n(-1+0j) [Z28 X30 X31 Z32 Z36 X37 X38 Z40], (-1+0j) [Z21 X22 X23 Y33 X34 Z35 Y36 Z37 X38] +\n(1-0j) [Z25 Z28 X30 X31 Z32 Y33 Y34 Z35 Z37 Z38 Z40], (-1+0j) [Z21 X22 Y23 X33 X34 Z35 X39 Z40 Y41] +\n(-1+0j) [X30 X31 Z32 Z33 Z38 Z39 X40 X41], 0]\n"
     ]
    }
   ],
   "metadata": {}
  },
  {
   "cell_type": "code",
   "execution_count": null,
   "source": [],
   "outputs": [],
   "metadata": {}
  },
  {
   "cell_type": "code",
   "execution_count": null,
   "source": [],
   "outputs": [],
   "metadata": {}
  }
 ],
 "metadata": {
  "kernelspec": {
   "name": "python3612jvsc74a57bd0dd6623e8e76d23db903b214967fc1f24af4a61091cdaad159adea9f58040799f",
   "display_name": "Python 3.6.12 64-bit ('py36': conda)"
  },
  "language_info": {
   "codemirror_mode": {
    "name": "ipython",
    "version": 3
   },
   "file_extension": ".py",
   "mimetype": "text/x-python",
   "name": "python",
   "nbconvert_exporter": "python",
   "pygments_lexer": "ipython3",
   "version": "3.6.12"
  },
  "interpreter": {
   "hash": "31f2aee4e71d21fbe5cf8b01ff0e069b9275f58929596ceb00d14d90e3e16cd6"
  },
  "metadata": {
   "interpreter": {
    "hash": "dd6623e8e76d23db903b214967fc1f24af4a61091cdaad159adea9f58040799f"
   }
  }
 },
 "nbformat": 4,
 "nbformat_minor": 4
}